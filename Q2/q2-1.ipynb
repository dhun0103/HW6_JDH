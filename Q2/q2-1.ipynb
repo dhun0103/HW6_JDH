{
 "cells": [
  {
   "cell_type": "code",
   "execution_count": 3,
   "id": "2b6291b6",
   "metadata": {},
   "outputs": [],
   "source": [
    "import csv\n",
    "import random\n",
    "\n",
    "data1 = [100]\n",
    "data2 = [1000]\n",
    "data3 = [10000]\n",
    "data4 = [100000]\n",
    "\n",
    "for i in range(0,100):\n",
    "    data1.append(random.randrange(1, 7))\n",
    "    \n",
    "for i in range(0,1000):\n",
    "    data2.append(random.randrange(1, 7))\n",
    "    \n",
    "for i in range(0,10000):\n",
    "    data3.append(random.randrange(1, 7))\n",
    "    \n",
    "for i in range(0,100000):\n",
    "    data4.append(random.randrange(1, 7))\n",
    "\n",
    "f = open('q2.csv', 'w', newline='')\n",
    "\n",
    "writer = csv.writer(f)\n",
    "\n",
    "writer.writerow(data1)\n",
    "writer.writerow(data2)\n",
    "writer.writerow(data3)\n",
    "writer.writerow(data4)\n",
    "\n",
    "f.close()"
   ]
  },
  {
   "cell_type": "code",
   "execution_count": null,
   "id": "398af5d5",
   "metadata": {},
   "outputs": [],
   "source": []
  },
  {
   "cell_type": "code",
   "execution_count": null,
   "id": "266dc976",
   "metadata": {},
   "outputs": [],
   "source": []
  },
  {
   "cell_type": "code",
   "execution_count": null,
   "id": "bc081a84",
   "metadata": {},
   "outputs": [],
   "source": []
  }
 ],
 "metadata": {
  "kernelspec": {
   "display_name": "Python 3 (ipykernel)",
   "language": "python",
   "name": "python3"
  },
  "language_info": {
   "codemirror_mode": {
    "name": "ipython",
    "version": 3
   },
   "file_extension": ".py",
   "mimetype": "text/x-python",
   "name": "python",
   "nbconvert_exporter": "python",
   "pygments_lexer": "ipython3",
   "version": "3.9.12"
  }
 },
 "nbformat": 4,
 "nbformat_minor": 5
}
